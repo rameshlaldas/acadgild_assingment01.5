{
 "cells": [
  {
   "cell_type": "code",
   "execution_count": 4,
   "metadata": {},
   "outputs": [
    {
     "name": "stdout",
     "output_type": "stream",
     "text": [
      "Enter the comma seperated no's 1,2,2,3,3,4,5,6,7,8,9\n",
      "[1, 2, 2, 3, 3, 4, 5, 6, 7, 8, 9]\n"
     ]
    }
   ],
   "source": [
    "####assingment 1.5####Write a program which accepts a sequence of comma-separated numbers from console and generate a list.\n",
    "li=[]\n",
    "x=input(\"Enter the comma seperated no's \")\n",
    "y=x.split(\",\")\n",
    "#####print(y)\n",
    "#####z=[int(i) for i in y]\n",
    "for i in y:\n",
    "    z=int(i)\n",
    "    li.append(z)\n",
    "print(li)"
   ]
  },
  {
   "cell_type": "code",
   "execution_count": null,
   "metadata": {},
   "outputs": [],
   "source": []
  }
 ],
 "metadata": {
  "kernelspec": {
   "display_name": "Python 3",
   "language": "python",
   "name": "python3"
  },
  "language_info": {
   "codemirror_mode": {
    "name": "ipython",
    "version": 3
   },
   "file_extension": ".py",
   "mimetype": "text/x-python",
   "name": "python",
   "nbconvert_exporter": "python",
   "pygments_lexer": "ipython3",
   "version": "3.6.4"
  }
 },
 "nbformat": 4,
 "nbformat_minor": 2
}
